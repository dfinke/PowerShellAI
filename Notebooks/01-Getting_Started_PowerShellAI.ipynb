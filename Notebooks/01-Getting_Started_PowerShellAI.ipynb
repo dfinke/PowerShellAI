{
 "cells": [
  {
   "attachments": {},
   "cell_type": "markdown",
   "metadata": {
    "dotnet_interactive": {
     "language": "pwsh"
    },
    "polyglot_notebook": {
     "kernelName": "pwsh"
    }
   },
   "source": [
    "# Getting Started with PowerShellAI\n",
    "\n",
    "\n",
    "Check to see if you have the latest version of PowerShellAI installed.\n",
    "\n",
    "If not then install it from the PowerShell Gallery."
   ]
  },
  {
   "cell_type": "code",
   "execution_count": 1,
   "metadata": {
    "dotnet_interactive": {
     "language": "pwsh"
    },
    "polyglot_notebook": {
     "kernelName": "pwsh"
    },
    "vscode": {
     "languageId": "polyglot-notebook"
    }
   },
   "outputs": [],
   "source": [
    "If($null -eq (Get-Module -list PowerShellAI)) {\n",
    "    Install-Modlue PowerShellAI \n",
    "}"
   ]
  },
  {
   "attachments": {},
   "cell_type": "markdown",
   "metadata": {
    "dotnet_interactive": {
     "language": "pwsh"
    },
    "polyglot_notebook": {
     "kernelName": "pwsh"
    }
   },
   "source": [
    "# OpenAI GPT\n",
    "\n",
    "The OpenAI GPT model is a large transformer-based language model with 1.5 billion parameters, trained on a dataset of 8 million web pages. It is capable of generating coherent paragraphs of text.\n",
    "\n",
    "The OpenAI GPT model is available in the PowerShellAI module.\n",
    "\n",
    "GPT is capable of carrying out a wide range of tasks, including summarization, question answering, and translation. It can also generate coherent paragraphs of text.\n",
    "\n"
   ]
  },
  {
   "cell_type": "code",
   "execution_count": 4,
   "metadata": {
    "dotnet_interactive": {
     "language": "pwsh"
    },
    "polyglot_notebook": {
     "kernelName": "pwsh"
    },
    "vscode": {
     "languageId": "polyglot-notebook"
    }
   },
   "outputs": [
    {
     "name": "stdout",
     "output_type": "stream",
     "text": [
      "She did not go to the market.\r\n"
     ]
    }
   ],
   "source": [
    "# Correct the sentence\n",
    "\n",
    "gpt '\n",
    "Original: She no went to the market.\n",
    "Standard American English:\n",
    "'"
   ]
  },
  {
   "attachments": {},
   "cell_type": "markdown",
   "metadata": {
    "dotnet_interactive": {
     "language": "pwsh"
    },
    "polyglot_notebook": {
     "kernelName": "pwsh"
    }
   },
   "source": [
    "# Instructions"
   ]
  },
  {
   "cell_type": "code",
   "execution_count": 5,
   "metadata": {
    "dotnet_interactive": {
     "language": "pwsh"
    },
    "polyglot_notebook": {
     "kernelName": "pwsh"
    },
    "vscode": {
     "languageId": "polyglot-notebook"
    }
   },
   "outputs": [
    {
     "name": "stdout",
     "output_type": "stream",
     "text": [
      "1. Open Internet Explorer.\r\n",
      "2. Go to the Tools menu and click on Internet Options.\r\n",
      "3. Click on the Advanced tab.\r\n",
      "4. Click to clear or select the enable personalized favorite menu check box.\r\n"
     ]
    }
   ],
   "source": [
    "\n",
    "$prompt = \"\n",
    "Write a plan of actions based on these instructions:\n",
    "\n",
    "Start Internet Explorer.\n",
    "You need to eventually click on the advanced tab.\n",
    "But before that, click on the Internet options on the tools menu.\n",
    "After the click on the advanced tab, click to clear or select the enable\n",
    "personalized favorite menu check box.\n",
    "\n",
    "\n",
    "ACTIONS:\n",
    "\"\n",
    "\n",
    "gpt $prompt"
   ]
  },
  {
   "attachments": {},
   "cell_type": "markdown",
   "metadata": {
    "dotnet_interactive": {
     "language": "pwsh"
    },
    "polyglot_notebook": {
     "kernelName": "pwsh"
    }
   },
   "source": [
    "# Let's have GPT write some PowerShell code for us."
   ]
  },
  {
   "cell_type": "code",
   "execution_count": 6,
   "metadata": {
    "dotnet_interactive": {
     "language": "pwsh"
    },
    "polyglot_notebook": {
     "kernelName": "pwsh"
    },
    "vscode": {
     "languageId": "polyglot-notebook"
    }
   },
   "outputs": [
    {
     "name": "stdout",
     "output_type": "stream",
     "text": [
      "\n",
      "\n",
      "1..10 | Where-Object {$_ % 2 -eq 0}\r\n"
     ]
    }
   ],
   "source": [
    "gpt \"Using PowrShell, display the even numbers from 1 to 10.\""
   ]
  }
 ],
 "metadata": {
  "kernelspec": {
   "display_name": ".NET (PowerShell)",
   "language": "PowerShell",
   "name": ".net-pwsh"
  },
  "polyglot_notebook": {
   "kernelInfo": {
    "defaultKernelName": "pwsh",
    "items": [
     {
      "aliases": [
       "powershell"
      ],
      "languageName": "PowerShell",
      "name": "pwsh"
     },
     {
      "aliases": [
       "c#",
       "C#"
      ],
      "languageName": "C#",
      "name": "csharp"
     },
     {
      "aliases": [
       "frontend"
      ],
      "languageName": null,
      "name": "vscode"
     },
     {
      "aliases": [],
      "name": ".NET"
     },
     {
      "aliases": [
       "f#",
       "F#"
      ],
      "languageName": "F#",
      "name": "fsharp"
     },
     {
      "aliases": [],
      "languageName": "HTML",
      "name": "html"
     },
     {
      "aliases": [
       "js"
      ],
      "languageName": "JavaScript",
      "name": "javascript"
     },
     {
      "aliases": [],
      "languageName": "KQL",
      "name": "kql"
     },
     {
      "aliases": [],
      "languageName": "Mermaid",
      "name": "mermaid"
     },
     {
      "aliases": [],
      "languageName": "SQL",
      "name": "sql"
     },
     {
      "aliases": [],
      "name": "value"
     },
     {
      "aliases": [],
      "name": "webview"
     }
    ]
   }
  }
 },
 "nbformat": 4,
 "nbformat_minor": 2
}
